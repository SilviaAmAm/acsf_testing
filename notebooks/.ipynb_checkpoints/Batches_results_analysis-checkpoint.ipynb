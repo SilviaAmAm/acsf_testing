{
 "cells": [
  {
   "cell_type": "code",
   "execution_count": 1,
   "metadata": {
    "collapsed": true
   },
   "outputs": [],
   "source": [
    "import numpy as np\n",
    "import matplotlib.pyplot as plt\n",
    "import seaborn as sns\n",
    "sns.set()"
   ]
  },
  {
   "cell_type": "code",
   "execution_count": 2,
   "metadata": {
    "collapsed": true
   },
   "outputs": [],
   "source": [
    "data = np.load(\"/Volumes/Transcend/calculations/descriptor_speed/results/batches_results_new.npz\")"
   ]
  },
  {
   "cell_type": "code",
   "execution_count": 3,
   "metadata": {
    "collapsed": true
   },
   "outputs": [],
   "source": [
    "samples = data[\"arr_0\"]\n",
    "batches = data[\"arr_1\"]\n",
    "times = data[\"arr_2\"]"
   ]
  },
  {
   "cell_type": "code",
   "execution_count": 4,
   "metadata": {
    "collapsed": false
   },
   "outputs": [
    {
     "data": {
      "image/png": "[encoded data removed]",
      "text/plain": [
       "<Figure size 432x288 with 1 Axes>"
      ]
     },
     "metadata": {},
     "output_type": "display_data"
    }
   ],
   "source": [
    "plt.scatter(samples, times, marker='o', c=batches)\n",
    "plt.show()"
   ]
  },
  {
   "cell_type": "code",
   "execution_count": 5,
   "metadata": {
    "collapsed": false
   },
   "outputs": [],
   "source": [
    "unique_batches = np.unique(batches)"
   ]
  },
  {
   "cell_type": "code",
   "execution_count": 6,
   "metadata": {
    "collapsed": false
   },
   "outputs": [],
   "source": [
    "new_samples = []\n",
    "new_times = []\n",
    "\n",
    "for i in range(len(unique_batches)):\n",
    "    temp_samples = []\n",
    "    temp_times = []\n",
    "    for j in range(len(batches)):\n",
    "        if batches[j] == unique_batches[i]:\n",
    "            temp_samples.append(samples[j])\n",
    "            temp_times.append(times[j])\n",
    "    new_samples.append(temp_samples)\n",
    "    new_times.append(temp_times)"
   ]
  },
  {
   "cell_type": "code",
   "execution_count": 7,
   "metadata": {
    "collapsed": false
   },
   "outputs": [],
   "source": [
    "unique_samples = []\n",
    "mean_times = []\n",
    "stdev_times = []\n",
    "n_iterations = 5\n",
    "\n",
    "for i in range(len(unique_batches)):\n",
    "    temp_samples = []\n",
    "    temp_mean_times = []\n",
    "    temp_std_times = []\n",
    "    for j in range(0, len(new_samples[i]), n_iterations):\n",
    "        temp_samples.append(new_samples[i][j])\n",
    "        mean = np.mean(new_times[i][j:j+5])\n",
    "        stdv = np.std(new_times[i][j:j+5])\n",
    "        temp_mean_times.append(mean)\n",
    "        temp_std_times.append(stdv)   \n",
    "    unique_samples.append(temp_samples)\n",
    "    mean_times.append(temp_mean_times)\n",
    "    stdev_times.append(temp_std_times)\n"
   ]
  },
  {
   "cell_type": "code",
   "execution_count": 16,
   "metadata": {
    "collapsed": false
   },
   "outputs": [
    {
     "data": {
      "image/png": "[encoded data removed]",
      "text/plain": [
       "<Figure size 432x288 with 1 Axes>"
      ]
     },
     "metadata": {},
     "output_type": "display_data"
    }
   ],
   "source": [
    "for i in range(len(unique_batches)):\n",
    "    lab=\"batch size = \" + str(unique_batches[i])\n",
    "    plt.errorbar(unique_samples[i], mean_times[i], yerr=stdev_times[i], fmt='o', label=lab)\n",
    "    \n",
    "plt.xlabel(\"Number of samples\")\n",
    "plt.ylabel(\"Time (s)\")\n",
    "# plt.xlim(200,1000)\n",
    "# plt.ylim(2,9)\n",
    "plt.legend()\n",
    "# plt.savefig(\"speed_batches.png\", dpi=200)\n",
    "plt.show()"
   ]
  },
  {
   "cell_type": "code",
   "execution_count": 9,
   "metadata": {
    "collapsed": false
   },
   "outputs": [
    {
     "name": "stdout",
     "output_type": "stream",
     "text": [
      "(5, 5)\n"
     ]
    }
   ],
   "source": [
    "print(np.asarray(unique_samples).shape)"
   ]
  },
  {
   "cell_type": "code",
   "execution_count": null,
   "metadata": {
    "collapsed": true
   },
   "outputs": [],
   "source": []
  }
 ],
 "metadata": {
  "anaconda-cloud": {},
  "kernelspec": {
   "display_name": "Python [conda env:py36]",
   "language": "python",
   "name": "conda-env-py36-py"
  },
  "language_info": {
   "codemirror_mode": {
    "name": "ipython",
    "version": 3
   },
   "file_extension": ".py",
   "mimetype": "text/x-python",
   "name": "python",
   "nbconvert_exporter": "python",
   "pygments_lexer": "ipython3",
   "version": "3.6.3"
  }
 },
 "nbformat": 4,
 "nbformat_minor": 1
}
